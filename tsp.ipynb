{
 "cells": [
  {
   "cell_type": "markdown",
   "id": "a8839b22",
   "metadata": {},
   "source": [
    "# Solving the Travelling Salesman problem using Simulated Annealing"
   ]
  },
  {
   "cell_type": "code",
   "execution_count": 5,
   "id": "8aa18036",
   "metadata": {},
   "outputs": [],
   "source": [
    "import numpy as np\n",
    "import math\n",
    "import itertools\n",
    "import random\n",
    "import matplotlib.pyplot as plt\n",
    "import scipy.stats as stats"
   ]
  },
  {
   "cell_type": "markdown",
   "id": "6a61285a",
   "metadata": {},
   "source": [
    "As our benchmark dataset we will use the famous TSPLIB 95 [Euclidean Symmetrical Instances](http://comopt.ifi.uni-heidelberg.de/software/TSPLIB95/tsp/). The solver expects that the uncompressed files are available in the folder `ALL_tsp`. We start by converting `.tsp` files into a distance matrix $A$, such that $a_{i, j}$ corresponds to the distance between cities $i$ and $j$. Since we are dealing with symmetrical instances, the matrix is also symmetric."
   ]
  },
  {
   "cell_type": "code",
   "execution_count": 6,
   "id": "c17437ed",
   "metadata": {},
   "outputs": [],
   "source": [
    "def dist_arr(file_path):\n",
    "    x_coord = []\n",
    "    y_coord = []\n",
    "\n",
    "    with open(file_path, 'r') as file:\n",
    "        for line in file:\n",
    "            line = line.strip()\n",
    "            \n",
    "\n",
    "            if line.startswith(\"EDGE_WEIGHT_TYPE\"):\n",
    "                if not line.endswith(\"EUC_2D\"):\n",
    "                    print(\"Error Incompatible Types\")\n",
    "                    break\n",
    "\n",
    "            if line[0].isdigit():\n",
    "                x_coord.append(float(line.split()[1]))  \n",
    "                y_coord.append(float(line.split()[2]))\n",
    "\n",
    "    dist = np.zeros((len(x_coord), len(x_coord)))\n",
    "\n",
    "    for i in range(len(x_coord)):\n",
    "        for j in range(len(x_coord)):\n",
    "            dist[i, j] = math.dist([x_coord[i], y_coord[i]], [x_coord[j], y_coord[j]])\n",
    "\n",
    "    return dist"
   ]
  },
  {
   "cell_type": "code",
   "execution_count": 7,
   "id": "ab61d2f0",
   "metadata": {},
   "outputs": [
    {
     "name": "stdout",
     "output_type": "stream",
     "text": [
      "[[ 0.         20.         24.08318916 32.984845   32.984845   42.75511665\n",
      "  55.71355311 63.2455532  61.18823416]\n",
      " [20.          0.         18.43908891 34.17601498 42.52058325 50.47771786\n",
      "  65.60487787 72.11102551 68.        ]\n",
      " [24.08318916 18.43908891  0.         16.1245155  27.78488798 33.9411255\n",
      "  49.51767361 55.31726674 50.47771786]\n",
      " [32.984845   34.17601498 16.1245155   0.         16.         18.86796226\n",
      "  34.40930107 39.59797975 34.40930107]\n",
      " [32.984845   42.52058325 27.78488798 16.          0.         10.\n",
      "  23.32380758 30.46309242 28.28427125]\n",
      " [42.75511665 50.47771786 33.9411255  18.86796226 10.          0.\n",
      "  15.62049935 21.63330765 18.43908891]\n",
      " [55.71355311 65.60487787 49.51767361 34.40930107 23.32380758 15.62049935\n",
      "   0.          8.         11.3137085 ]\n",
      " [63.2455532  72.11102551 55.31726674 39.59797975 30.46309242 21.63330765\n",
      "   8.          0.          8.        ]\n",
      " [61.18823416 68.         50.47771786 34.40930107 28.28427125 18.43908891\n",
      "  11.3137085   8.          0.        ]]\n"
     ]
    }
   ],
   "source": [
    "dist = dist_arr(\"ALL_tsp/a280.tsp\")\n",
    "print(dist[0:9, 0:9])"
   ]
  },
  {
   "cell_type": "markdown",
   "id": "622879b8",
   "metadata": {},
   "source": [
    "As a utility function, we now define `full_dist` to calculate the total length of a given route. We encode it as a vector, such that the $i$-th element is the $i$-th city we visit on our tour."
   ]
  },
  {
   "cell_type": "code",
   "execution_count": null,
   "id": "5e7be92a",
   "metadata": {},
   "outputs": [],
   "source": [
    "def full_dist(dist, route):\n",
    "    total = 0\n",
    "    for i in range(len(route)):\n",
    "        total += dist[route[i], route[(i+1) % len(route)]]\n",
    "\n",
    "    return total\n",
    "    "
   ]
  },
  {
   "cell_type": "markdown",
   "id": "9f412bba",
   "metadata": {},
   "source": [
    "We start with a simple random search to gain some intuition about the search space. The following function will generate `lim` many random routes and identify the shortest one among them."
   ]
  },
  {
   "cell_type": "code",
   "execution_count": 9,
   "id": "8e835710",
   "metadata": {},
   "outputs": [],
   "source": [
    "def random_routes(dist, lim):\n",
    "    route = list(range(0, len(dist)))\n",
    "\n",
    "    total = math.inf\n",
    "    route_opt = None\n",
    "    t = 0\n",
    "    while t <= lim:\n",
    "        random.shuffle(route)\n",
    "\n",
    "        if full_dist(dist, route) < total:\n",
    "            total = full_dist(dist, route)\n",
    "            route_opt = route\n",
    "        t += 1\n",
    "      \n",
    "\n",
    "    return total, route_opt"
   ]
  },
  {
   "cell_type": "code",
   "execution_count": 15,
   "id": "11c91f02",
   "metadata": {},
   "outputs": [
    {
     "name": "stdout",
     "output_type": "stream",
     "text": [
      "(30943.411982000478, [200, 223, 229, 249, 68, 258, 222, 181, 232, 183, 14, 165, 217, 89, 161, 221, 19, 131, 67, 116, 231, 56, 76, 269, 29, 3, 142, 79, 11, 155, 235, 98, 266, 18, 204, 1, 251, 173, 279, 230, 273, 176, 208, 145, 167, 73, 17, 215, 241, 63, 24, 257, 144, 55, 90, 53, 72, 82, 175, 51, 52, 15, 278, 210, 23, 45, 201, 26, 133, 50, 195, 156, 13, 216, 225, 150, 177, 152, 178, 108, 256, 199, 238, 202, 274, 87, 138, 264, 31, 245, 41, 0, 154, 159, 88, 237, 244, 86, 20, 106, 134, 54, 242, 207, 109, 70, 91, 92, 271, 10, 74, 248, 137, 39, 224, 21, 104, 78, 141, 187, 213, 77, 49, 239, 148, 180, 189, 196, 97, 122, 260, 125, 236, 270, 16, 259, 139, 44, 120, 130, 32, 33, 118, 162, 220, 262, 146, 37, 115, 160, 151, 71, 7, 117, 9, 253, 85, 46, 206, 168, 188, 111, 95, 47, 48, 22, 158, 143, 124, 66, 6, 61, 149, 69, 219, 123, 113, 203, 94, 276, 205, 182, 250, 101, 211, 192, 247, 254, 8, 105, 147, 186, 197, 164, 227, 36, 170, 27, 255, 93, 84, 191, 261, 218, 25, 198, 233, 75, 43, 190, 128, 12, 110, 80, 243, 267, 28, 35, 30, 174, 246, 34, 127, 136, 169, 171, 4, 5, 126, 65, 172, 184, 153, 163, 107, 103, 240, 96, 209, 57, 275, 140, 252, 234, 102, 135, 265, 62, 185, 58, 99, 214, 226, 40, 166, 228, 42, 179, 212, 59, 81, 277, 100, 114, 64, 194, 263, 121, 38, 268, 112, 272, 119, 2, 129, 60, 132, 83, 193, 157])\n"
     ]
    }
   ],
   "source": [
    "print(random_routes(dist, 10**3))"
   ]
  },
  {
   "cell_type": "markdown",
   "id": "cfcceb74",
   "metadata": {},
   "source": [
    "For Simulated Annealing we need to define a `step` function, which mutates our current tour. Our implementation chooses a uniformly random 2-OPT move, which are described in greater detail [here](https://jmsallan.netlify.app/blog/2-opt-moves-in-the-travelling-salesman-problem/). This mutation is known to work well in practice."
   ]
  },
  {
   "cell_type": "code",
   "execution_count": 16,
   "id": "0e794b19",
   "metadata": {},
   "outputs": [],
   "source": [
    "def step(dist, route):\n",
    "    # uniformly random select two non-adjacent edges\n",
    "    idx_edge_1_start = random.randrange(len(route))\n",
    "    idx_edge_1_end = (idx_edge_1_start + 1) % len(route)\n",
    "\n",
    "    idx_edge_2_start = random.randrange(len(route))\n",
    "    idx_edge_2_end = (idx_edge_2_start + 1) % len(route)\n",
    "\n",
    "    while abs(idx_edge_1_start - idx_edge_2_start) <= 1:\n",
    "        idx_edge_2_start = random.randrange(len(route))\n",
    "        idx_edge_2_end = (idx_edge_2_start + 1) % len(route)\n",
    "\n",
    "    # ensure first edge is before second edge\n",
    "    if idx_edge_2_start < idx_edge_1_start:\n",
    "        idx_edge_1_start, idx_edge_2_start = idx_edge_2_start, idx_edge_1_start\n",
    "        idx_edge_1_end, idx_edge_2_end = idx_edge_2_end, idx_edge_1_end\n",
    "\n",
    "    # full_dist(before) - full_dist(after)\n",
    "    diff = dist[route[idx_edge_1_start], route[idx_edge_1_end]] + dist[route[idx_edge_2_start], route[idx_edge_2_end]] - dist[route[idx_edge_1_start], route[idx_edge_2_start]] - dist[route[idx_edge_1_end], route[idx_edge_2_end]]\n",
    "\n",
    "    route_new = []\n",
    "    route_new += route[0 : idx_edge_1_start+1]\n",
    "    route_new += list(reversed(route[idx_edge_1_end : idx_edge_2_start + 1]))\n",
    "    if idx_edge_2_end != 0:\n",
    "        route_new += route[idx_edge_2_end :]\n",
    "\n",
    "    return diff, route_new"
   ]
  },
  {
   "cell_type": "markdown",
   "id": "0782367f",
   "metadata": {},
   "source": [
    "Now we have everything we need to implement the [Simulated Annealing](https://en.wikipedia.org/wiki/Simulated_annealing) search."
   ]
  },
  {
   "cell_type": "code",
   "execution_count": 20,
   "id": "4f064871",
   "metadata": {},
   "outputs": [],
   "source": [
    "def sim_ann(dist, initial_route, initial_temp):\n",
    "    cooling_rate = 0.0001\n",
    "    final_temp = 1e-3\n",
    "    it = 0\n",
    "\n",
    "    route = initial_route\n",
    "    distance = full_dist(dist, route)\n",
    "\n",
    "    temp = initial_temp\n",
    "\n",
    "    while temp > final_temp and it <= 1_000_000:\n",
    "        diff, route_new = step(dist, route)\n",
    "        \n",
    "        if diff <= 0:\n",
    "            if -diff/temp <= 0:\n",
    "                if random.random() > math.exp(-diff/temp):\n",
    "                    route = route_new\n",
    "                    distance -= diff\n",
    "\n",
    "        else:\n",
    "            route = route_new\n",
    "            distance -= diff\n",
    "        it += 1\n",
    "        temp *= 1.0 - cooling_rate\n",
    "\n",
    "    return distance, route"
   ]
  },
  {
   "cell_type": "markdown",
   "id": "e366b7fb",
   "metadata": {},
   "source": [
    "As an example, we run this function with a randomised route as a starting point. The initial temperature is chosen using the common strategy $-\\frac{\\mu(f)}{\\ln(0.8)}$, where we estimate the average length $\\mu(f)$ using our random search. We can see that the route is more than ten times shorter than the one provided by `random_routes`."
   ]
  },
  {
   "cell_type": "code",
   "execution_count": 21,
   "id": "a43a09ba",
   "metadata": {},
   "outputs": [
    {
     "name": "stdout",
     "output_type": "stream",
     "text": [
      "(2996.8753046834063, [270, 15, 16, 17, 18, 131, 132, 133, 134, 135, 136, 137, 138, 148, 147, 140, 139, 265, 266, 267, 268, 269, 260, 261, 262, 263, 264, 204, 205, 206, 207, 209, 211, 212, 215, 214, 213, 210, 227, 228, 229, 230, 245, 238, 237, 236, 231, 232, 235, 234, 233, 226, 225, 224, 223, 222, 218, 217, 216, 219, 221, 220, 194, 195, 200, 199, 201, 202, 203, 143, 142, 141, 146, 145, 144, 198, 197, 196, 193, 192, 191, 190, 189, 187, 188, 185, 186, 184, 183, 182, 181, 180, 179, 178, 149, 177, 176, 150, 151, 155, 152, 119, 118, 156, 157, 158, 175, 159, 174, 160, 161, 162, 163, 164, 165, 166, 167, 171, 170, 169, 168, 101, 100, 99, 98, 91, 90, 102, 105, 172, 173, 106, 104, 103, 107, 89, 88, 108, 109, 110, 113, 114, 116, 117, 115, 85, 64, 66, 65, 84, 83, 86, 112, 111, 87, 82, 81, 80, 78, 79, 92, 97, 96, 95, 93, 94, 77, 76, 75, 74, 73, 72, 71, 70, 69, 68, 67, 57, 56, 55, 44, 45, 54, 53, 52, 46, 47, 51, 50, 49, 48, 36, 35, 32, 33, 34, 37, 38, 39, 40, 41, 42, 43, 58, 63, 62, 61, 60, 59, 120, 121, 122, 123, 124, 29, 30, 31, 28, 125, 126, 127, 128, 153, 154, 129, 130, 19, 20, 27, 26, 25, 21, 24, 22, 23, 13, 14, 12, 11, 10, 9, 7, 8, 6, 4, 5, 275, 276, 3, 277, 278, 2, 279, 0, 1, 241, 242, 243, 240, 239, 244, 246, 247, 249, 250, 248, 255, 254, 251, 208, 252, 253, 256, 257, 258, 259, 274, 273, 272, 271])\n"
     ]
    }
   ],
   "source": [
    "route = list(range(0, len(dist)))\n",
    "random.shuffle(route)\n",
    "\n",
    "print(sim_ann(dist, route, 150_000.0))"
   ]
  },
  {
   "cell_type": "markdown",
   "id": "020c9da3",
   "metadata": {},
   "source": [
    "(c) Julian Hein"
   ]
  }
 ],
 "metadata": {
  "kernelspec": {
   "display_name": "Python 3",
   "language": "python",
   "name": "python3"
  },
  "language_info": {
   "codemirror_mode": {
    "name": "ipython",
    "version": 3
   },
   "file_extension": ".py",
   "mimetype": "text/x-python",
   "name": "python",
   "nbconvert_exporter": "python",
   "pygments_lexer": "ipython3",
   "version": "3.10.12"
  }
 },
 "nbformat": 4,
 "nbformat_minor": 5
}
