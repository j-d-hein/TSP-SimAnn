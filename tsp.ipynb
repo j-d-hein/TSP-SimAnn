{
 "cells": [
  {
   "cell_type": "markdown",
   "id": "a8839b22",
   "metadata": {},
   "source": [
    "# Solving the Travelling Salesman problem using Simulated Annealing"
   ]
  },
  {
   "cell_type": "code",
   "execution_count": 5,
   "id": "8aa18036",
   "metadata": {},
   "outputs": [],
   "source": [
    "import numpy as np\n",
    "import math\n",
    "import itertools\n",
    "import random\n",
    "import matplotlib.pyplot as plt\n",
    "import scipy.stats as stats"
   ]
  },
  {
   "cell_type": "markdown",
   "id": "6a61285a",
   "metadata": {},
   "source": [
    "As our benchmark dataset we will use the famous TSPLIB 95 [Euclidean Symmetrical Instances](http://comopt.ifi.uni-heidelberg.de/software/TSPLIB95/tsp/). The solver expects that the uncompressed files are available in the folder `ALL_tsp`. We start by converting `.tsp` files into a distance matrix $A$, such that $a_{i, j}$ corresponds to the distance between cities $i$ and $j$. Since we are dealing with symmetrical instances, the matrix is also symmetric."
   ]
  },
  {
   "cell_type": "code",
   "execution_count": 6,
   "id": "c17437ed",
   "metadata": {},
   "outputs": [],
   "source": [
    "def dist_arr(file_path):\n",
    "    x_coord = []\n",
    "    y_coord = []\n",
    "\n",
    "    with open(file_path, 'r') as file:\n",
    "        for line in file:\n",
    "            line = line.strip()\n",
    "            \n",
    "\n",
    "            if line.startswith(\"EDGE_WEIGHT_TYPE\"):\n",
    "                if not line.endswith(\"EUC_2D\"):\n",
    "                    print(\"Error Incompatible Types\")\n",
    "                    break\n",
    "\n",
    "            if line[0].isdigit():\n",
    "                x_coord.append(float(line.split()[1]))  \n",
    "                y_coord.append(float(line.split()[2]))\n",
    "\n",
    "    dist = np.zeros((len(x_coord), len(x_coord)))\n",
    "\n",
    "    for i in range(len(x_coord)):\n",
    "        for j in range(len(x_coord)):\n",
    "            dist[i, j] = math.dist([x_coord[i], y_coord[i]], [x_coord[j], y_coord[j]])\n",
    "\n",
    "    return dist"
   ]
  },
  {
   "cell_type": "code",
   "execution_count": 7,
   "id": "ab61d2f0",
   "metadata": {},
   "outputs": [
    {
     "name": "stdout",
     "output_type": "stream",
     "text": [
      "[[ 0.         20.         24.08318916 32.984845   32.984845   42.75511665\n",
      "  55.71355311 63.2455532  61.18823416]\n",
      " [20.          0.         18.43908891 34.17601498 42.52058325 50.47771786\n",
      "  65.60487787 72.11102551 68.        ]\n",
      " [24.08318916 18.43908891  0.         16.1245155  27.78488798 33.9411255\n",
      "  49.51767361 55.31726674 50.47771786]\n",
      " [32.984845   34.17601498 16.1245155   0.         16.         18.86796226\n",
      "  34.40930107 39.59797975 34.40930107]\n",
      " [32.984845   42.52058325 27.78488798 16.          0.         10.\n",
      "  23.32380758 30.46309242 28.28427125]\n",
      " [42.75511665 50.47771786 33.9411255  18.86796226 10.          0.\n",
      "  15.62049935 21.63330765 18.43908891]\n",
      " [55.71355311 65.60487787 49.51767361 34.40930107 23.32380758 15.62049935\n",
      "   0.          8.         11.3137085 ]\n",
      " [63.2455532  72.11102551 55.31726674 39.59797975 30.46309242 21.63330765\n",
      "   8.          0.          8.        ]\n",
      " [61.18823416 68.         50.47771786 34.40930107 28.28427125 18.43908891\n",
      "  11.3137085   8.          0.        ]]\n"
     ]
    }
   ],
   "source": [
    "dist = dist_arr(\"ALL_tsp/a280.tsp\")\n",
    "print(dist[0:9, 0:9])"
   ]
  },
  {
   "cell_type": "markdown",
   "id": "622879b8",
   "metadata": {},
   "source": [
    "As a utility function, we now define `full_dist` to calculate the total length of a given route. We encode it as a vector, such that the $i$-th element is the $i$-th city we visit on our tour."
   ]
  },
  {
   "cell_type": "code",
   "execution_count": 8,
   "id": "5e7be92a",
   "metadata": {},
   "outputs": [],
   "source": [
    "def full_dist(dist, route):\n",
    "    total = 0\n",
    "    for i in range(len(route)):\n",
    "        total += dist[route[i], route[(i+1) % len(route)]]\n",
    "\n",
    "    return total"
   ]
  },
  {
   "cell_type": "markdown",
   "id": "020c9da3",
   "metadata": {},
   "source": [
    "(c) Julian Hein"
   ]
  }
 ],
 "metadata": {
  "kernelspec": {
   "display_name": "Python 3",
   "language": "python",
   "name": "python3"
  },
  "language_info": {
   "codemirror_mode": {
    "name": "ipython",
    "version": 3
   },
   "file_extension": ".py",
   "mimetype": "text/x-python",
   "name": "python",
   "nbconvert_exporter": "python",
   "pygments_lexer": "ipython3",
   "version": "3.10.12"
  }
 },
 "nbformat": 4,
 "nbformat_minor": 5
}
